{
 "cells": [
  {
   "cell_type": "code",
   "execution_count": 2,
   "id": "db000525-aac2-4e52-b086-387156715012",
   "metadata": {},
   "outputs": [
    {
     "name": "stdout",
     "output_type": "stream",
     "text": [
      "Librerías importadas correctamente.\n"
     ]
    }
   ],
   "source": [
    "import pandas as pd\n",
    "import matplotlib.pyplot as plt\n",
    "import seaborn as sns\n",
    "\n",
    "# Configuración para mostrar gráficos en el notebook\n",
    "%matplotlib inline\n",
    "\n",
    "# Estilo de los gráficos\n",
    "sns.set(style=\"whitegrid\")\n",
    "\n",
    "print(\"Librerías importadas correctamente.\")\n"
   ]
  },
  {
   "cell_type": "code",
   "execution_count": 1,
   "id": "cd0c8925-c33a-4300-a4da-831a4d4ca55e",
   "metadata": {},
   "outputs": [
    {
     "name": "stdout",
     "output_type": "stream",
     "text": [
      "Archivo sensores_maquina.csv creado con éxito.\n"
     ]
    }
   ],
   "source": [
    "import pandas as pd\n",
    "\n",
    "# Crear datos simulados\n",
    "data = {\n",
    "    \"timestamp\": [\n",
    "        \"2025-01-01 08:00:00\", \"2025-01-01 08:01:00\", \"2025-01-01 08:02:00\",\n",
    "        \"2025-01-01 08:03:00\", \"2025-01-01 08:04:00\", \"2025-01-01 08:05:00\"\n",
    "    ],\n",
    "    \"temperatura\": [40.5, 40.8, 41.0, 41.3, 41.6, 42.0],\n",
    "    \"presion\": [101.3, 101.5, 101.7, 102.1, 102.3, 102.8],\n",
    "    \"vibracion\": [0.02, 0.03, 0.03, 0.05, 0.04, 0.07]\n",
    "}\n",
    "\n",
    "# Convertir datos a un DataFrame\n",
    "df = pd.DataFrame(data)\n",
    "\n",
    "# Guardar como CSV\n",
    "df.to_csv(\"sensores_maquina.csv\", index=False)\n",
    "\n",
    "print(\"Archivo sensores_maquina.csv creado con éxito.\")\n"
   ]
  },
  {
   "cell_type": "markdown",
   "id": "4c72f834-77f6-4946-9bbe-85458b46f0d5",
   "metadata": {},
   "source": [
    "### Creación de Datos Simulados\n",
    "Para este proyecto, simulamos datos de sensores de una máquina industrial. Los datos contienen:\n",
    "- **timestamp**: Marca de tiempo de cada registro.\n",
    "- **temperatura**: Lecturas en grados Celsius.\n",
    "- **presion**: Lecturas en bar.\n",
    "- **vibracion**: Lecturas de vibración en mm/s.\n",
    "\n",
    "Los datos se guardaron en un archivo CSV llamado `sensores_maquina.csv`."
   ]
  },
  {
   "cell_type": "code",
   "execution_count": null,
   "id": "2c688480",
   "metadata": {},
   "outputs": [],
   "source": []
  }
 ],
 "metadata": {
  "kernelspec": {
   "display_name": "Python 3 (ipykernel)",
   "language": "python",
   "name": "python3"
  },
  "language_info": {
   "codemirror_mode": {
    "name": "ipython",
    "version": 3
   },
   "file_extension": ".py",
   "mimetype": "text/x-python",
   "name": "python",
   "nbconvert_exporter": "python",
   "pygments_lexer": "ipython3",
   "version": "3.9.21"
  }
 },
 "nbformat": 4,
 "nbformat_minor": 5
}
