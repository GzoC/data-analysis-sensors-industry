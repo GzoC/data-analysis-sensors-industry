{
 "cells": [
  {
   "cell_type": "code",
   "execution_count": 1,
   "id": "401d3e8f-0195-479a-a11e-9abd759f23aa",
   "metadata": {},
   "outputs": [
    {
     "name": "stdout",
     "output_type": "stream",
     "text": [
      "Librerías importadas correctamente.\n"
     ]
    }
   ],
   "source": [
    "    import pandas as pd\n",
    "import matplotlib.pyplot as plt\n",
    "import seaborn as sns\n",
    "\n",
    "# Configuración para mostrar gráficos en el notebook\n",
    "%matplotlib inline\n",
    "\n",
    "# Estilo de los gráficos\n",
    "sns.set(style=\"whitegrid\")\n",
    "\n",
    "print(\"Librerías importadas correctamente.\")\n"
   ]
  },
  {
   "cell_type": "code",
   "execution_count": 3,
   "id": "8378abdc-5b57-47fc-82e3-9b6c83f19bc8",
   "metadata": {},
   "outputs": [
    {
     "name": "stdout",
     "output_type": "stream",
     "text": [
      "Primeras 5 filas del dataset:\n"
     ]
    },
    {
     "data": {
      "text/html": [
       "<div>\n",
       "<style scoped>\n",
       "    .dataframe tbody tr th:only-of-type {\n",
       "        vertical-align: middle;\n",
       "    }\n",
       "\n",
       "    .dataframe tbody tr th {\n",
       "        vertical-align: top;\n",
       "    }\n",
       "\n",
       "    .dataframe thead th {\n",
       "        text-align: right;\n",
       "    }\n",
       "</style>\n",
       "<table border=\"1\" class=\"dataframe\">\n",
       "  <thead>\n",
       "    <tr style=\"text-align: right;\">\n",
       "      <th></th>\n",
       "      <th>timestamp</th>\n",
       "      <th>temperatura</th>\n",
       "      <th>presion</th>\n",
       "      <th>vibracion</th>\n",
       "    </tr>\n",
       "  </thead>\n",
       "  <tbody>\n",
       "    <tr>\n",
       "      <th>0</th>\n",
       "      <td>2025-01-01 08:00:00</td>\n",
       "      <td>40.5</td>\n",
       "      <td>101.3</td>\n",
       "      <td>0.02</td>\n",
       "    </tr>\n",
       "    <tr>\n",
       "      <th>1</th>\n",
       "      <td>2025-01-01 08:01:00</td>\n",
       "      <td>40.8</td>\n",
       "      <td>101.5</td>\n",
       "      <td>0.03</td>\n",
       "    </tr>\n",
       "    <tr>\n",
       "      <th>2</th>\n",
       "      <td>2025-01-01 08:02:00</td>\n",
       "      <td>41.0</td>\n",
       "      <td>101.7</td>\n",
       "      <td>0.03</td>\n",
       "    </tr>\n",
       "    <tr>\n",
       "      <th>3</th>\n",
       "      <td>2025-01-01 08:03:00</td>\n",
       "      <td>41.3</td>\n",
       "      <td>102.1</td>\n",
       "      <td>0.05</td>\n",
       "    </tr>\n",
       "    <tr>\n",
       "      <th>4</th>\n",
       "      <td>2025-01-01 08:04:00</td>\n",
       "      <td>41.6</td>\n",
       "      <td>102.3</td>\n",
       "      <td>0.04</td>\n",
       "    </tr>\n",
       "  </tbody>\n",
       "</table>\n",
       "</div>"
      ],
      "text/plain": [
       "             timestamp  temperatura  presion  vibracion\n",
       "0  2025-01-01 08:00:00         40.5    101.3       0.02\n",
       "1  2025-01-01 08:01:00         40.8    101.5       0.03\n",
       "2  2025-01-01 08:02:00         41.0    101.7       0.03\n",
       "3  2025-01-01 08:03:00         41.3    102.1       0.05\n",
       "4  2025-01-01 08:04:00         41.6    102.3       0.04"
      ]
     },
     "metadata": {},
     "output_type": "display_data"
    },
    {
     "name": "stdout",
     "output_type": "stream",
     "text": [
      "\n",
      "Información general del dataset:\n",
      "<class 'pandas.core.frame.DataFrame'>\n",
      "RangeIndex: 6 entries, 0 to 5\n",
      "Data columns (total 4 columns):\n",
      " #   Column       Non-Null Count  Dtype  \n",
      "---  ------       --------------  -----  \n",
      " 0   timestamp    6 non-null      object \n",
      " 1   temperatura  6 non-null      float64\n",
      " 2   presion      6 non-null      float64\n",
      " 3   vibracion    6 non-null      float64\n",
      "dtypes: float64(3), object(1)\n",
      "memory usage: 324.0+ bytes\n"
     ]
    }
   ],
   "source": [
    "# Cargar el archivo CSV\n",
    "ruta_csv = \"sensores_maquina.csv\"\n",
    "df = pd.read_csv(ruta_csv)\n",
    "\n",
    "# Mostrar las primeras filas\n",
    "print(\"Primeras 5 filas del dataset:\")\n",
    "display(df.head())\n",
    "\n",
    "# Verificar la información general del dataset\n",
    "print(\"\\nInformación general del dataset:\")\n",
    "df.info()\n"
   ]
  }
 ],
 "metadata": {
  "kernelspec": {
   "display_name": "Python 3 (ipykernel)",
   "language": "python",
   "name": "python3"
  },
  "language_info": {
   "codemirror_mode": {
    "name": "ipython",
    "version": 3
   },
   "file_extension": ".py",
   "mimetype": "text/x-python",
   "name": "python",
   "nbconvert_exporter": "python",
   "pygments_lexer": "ipython3",
   "version": "3.12.7"
  }
 },
 "nbformat": 4,
 "nbformat_minor": 5
}
