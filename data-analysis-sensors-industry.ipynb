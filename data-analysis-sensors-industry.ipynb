{
 "cells": [
  {
   "cell_type": "code",
   "execution_count": 1,
   "id": "cd0c8925-c33a-4300-a4da-831a4d4ca55e",
   "metadata": {},
   "outputs": [
    {
     "name": "stdout",
     "output_type": "stream",
     "text": [
      "Archivo sensores_maquina.csv creado con éxito.\n"
     ]
    }
   ],
   "source": [
    "import pandas as pd\n",
    "\n",
    "# Crear datos simulados\n",
    "data = {\n",
    "    \"timestamp\": [\n",
    "        \"2025-01-01 08:00:00\", \"2025-01-01 08:01:00\", \"2025-01-01 08:02:00\",\n",
    "        \"2025-01-01 08:03:00\", \"2025-01-01 08:04:00\", \"2025-01-01 08:05:00\"\n",
    "    ],\n",
    "    \"temperatura\": [40.5, 40.8, 41.0, 41.3, 41.6, 42.0],\n",
    "    \"presion\": [101.3, 101.5, 101.7, 102.1, 102.3, 102.8],\n",
    "    \"vibracion\": [0.02, 0.03, 0.03, 0.05, 0.04, 0.07]\n",
    "}\n",
    "\n",
    "# Convertir datos a un DataFrame\n",
    "df = pd.DataFrame(data)\n",
    "\n",
    "# Guardar como CSV\n",
    "df.to_csv(\"sensores_maquina.csv\", index=False)\n",
    "\n",
    "print(\"Archivo sensores_maquina.csv creado con éxito.\")\n"
   ]
  },
  {
   "cell_type": "code",
   "execution_count": 2,
   "id": "8bd2e8a7-3682-4167-b7e0-97c8fecd8176",
   "metadata": {},
   "outputs": [
    {
     "data": {
      "text/html": [
       "<div>\n",
       "<style scoped>\n",
       "    .dataframe tbody tr th:only-of-type {\n",
       "        vertical-align: middle;\n",
       "    }\n",
       "\n",
       "    .dataframe tbody tr th {\n",
       "        vertical-align: top;\n",
       "    }\n",
       "\n",
       "    .dataframe thead th {\n",
       "        text-align: right;\n",
       "    }\n",
       "</style>\n",
       "<table border=\"1\" class=\"dataframe\">\n",
       "  <thead>\n",
       "    <tr style=\"text-align: right;\">\n",
       "      <th></th>\n",
       "      <th>timestamp</th>\n",
       "      <th>temperatura</th>\n",
       "      <th>presion</th>\n",
       "      <th>vibracion</th>\n",
       "    </tr>\n",
       "  </thead>\n",
       "  <tbody>\n",
       "    <tr>\n",
       "      <th>0</th>\n",
       "      <td>2025-01-01 08:00:00</td>\n",
       "      <td>40.5</td>\n",
       "      <td>101.3</td>\n",
       "      <td>0.02</td>\n",
       "    </tr>\n",
       "    <tr>\n",
       "      <th>1</th>\n",
       "      <td>2025-01-01 08:01:00</td>\n",
       "      <td>40.8</td>\n",
       "      <td>101.5</td>\n",
       "      <td>0.03</td>\n",
       "    </tr>\n",
       "    <tr>\n",
       "      <th>2</th>\n",
       "      <td>2025-01-01 08:02:00</td>\n",
       "      <td>41.0</td>\n",
       "      <td>101.7</td>\n",
       "      <td>0.03</td>\n",
       "    </tr>\n",
       "    <tr>\n",
       "      <th>3</th>\n",
       "      <td>2025-01-01 08:03:00</td>\n",
       "      <td>41.3</td>\n",
       "      <td>102.1</td>\n",
       "      <td>0.05</td>\n",
       "    </tr>\n",
       "    <tr>\n",
       "      <th>4</th>\n",
       "      <td>2025-01-01 08:04:00</td>\n",
       "      <td>41.6</td>\n",
       "      <td>102.3</td>\n",
       "      <td>0.04</td>\n",
       "    </tr>\n",
       "  </tbody>\n",
       "</table>\n",
       "</div>"
      ],
      "text/plain": [
       "             timestamp  temperatura  presion  vibracion\n",
       "0  2025-01-01 08:00:00         40.5    101.3       0.02\n",
       "1  2025-01-01 08:01:00         40.8    101.5       0.03\n",
       "2  2025-01-01 08:02:00         41.0    101.7       0.03\n",
       "3  2025-01-01 08:03:00         41.3    102.1       0.05\n",
       "4  2025-01-01 08:04:00         41.6    102.3       0.04"
      ]
     },
     "execution_count": 2,
     "metadata": {},
     "output_type": "execute_result"
    }
   ],
   "source": [
    "import pandas as pd\n",
    "\n",
    "# Cargar el archivo CSV\n",
    "df = pd.read_csv(\"sensores_maquina.csv\")\n",
    "\n",
    "# Mostrar las primeras filas del dataset\n",
    "df.head()"
   ]
  },
  {
   "cell_type": "markdown",
   "id": "4c72f834-77f6-4946-9bbe-85458b46f0d5",
   "metadata": {},
   "source": [
    "### Creación de Datos Simulados\n",
    "Para este proyecto, simulamos datos de sensores de una máquina industrial. Los datos contienen:\n",
    "- **timestamp**: Marca de tiempo de cada registro.\n",
    "- **temperatura**: Lecturas en grados Celsius.\n",
    "- **presion**: Lecturas en bar.\n",
    "- **vibracion**: Lecturas de vibración en mm/s.\n",
    "\n",
    "Los datos se guardaron en un archivo CSV llamado `sensores_maquina.csv`."
   ]
  },
  {
   "cell_type": "code",
   "execution_count": null,
   "id": "db000525-aac2-4e52-b086-387156715012",
   "metadata": {},
   "outputs": [],
   "source": []
  }
 ],
 "metadata": {
  "kernelspec": {
   "display_name": "Python 3 (ipykernel)",
   "language": "python",
   "name": "python3"
  },
  "language_info": {
   "codemirror_mode": {
    "name": "ipython",
    "version": 3
   },
   "file_extension": ".py",
   "mimetype": "text/x-python",
   "name": "python",
   "nbconvert_exporter": "python",
   "pygments_lexer": "ipython3",
   "version": "3.9.21"
  }
 },
 "nbformat": 4,
 "nbformat_minor": 5
}
