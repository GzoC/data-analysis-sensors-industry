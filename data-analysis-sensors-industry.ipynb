{
 "cells": [
  {
   "cell_type": "code",
   "execution_count": 3,
   "id": "db000525-aac2-4e52-b086-387156715012",
   "metadata": {},
   "outputs": [
    {
     "name": "stdout",
     "output_type": "stream",
     "text": [
      "Librerías importadas correctamente.\n"
     ]
    }
   ],
   "source": [
    "import pandas as pd\n",
    "import matplotlib.pyplot as plt\n",
    "import seaborn as sns\n",
    "\n",
    "# Configuración para mostrar gráficos en el notebook\n",
    "%matplotlib inline\n",
    "\n",
    "# Estilo de los gráficos\n",
    "sns.set(style=\"whitegrid\")\n",
    "\n",
    "print(\"Librerías importadas correctamente.\")\n"
   ]
  },
  {
   "cell_type": "code",
   "execution_count": 4,
   "id": "cd0c8925-c33a-4300-a4da-831a4d4ca55e",
   "metadata": {},
   "outputs": [
    {
     "name": "stdout",
     "output_type": "stream",
     "text": [
      "Archivo sensores_maquina.csv creado con éxito.\n"
     ]
    }
   ],
   "source": [
    "import pandas as pd\n",
    "\n",
    "# Crear datos simulados\n",
    "data = {\n",
    "    \"timestamp\": [\n",
    "        \"2025-01-01 08:00:00\", \"2025-01-01 08:01:00\", \"2025-01-01 08:02:00\",\n",
    "        \"2025-01-01 08:03:00\", \"2025-01-01 08:04:00\", \"2025-01-01 08:05:00\"\n",
    "    ],\n",
    "    \"temperatura\": [40.5, 40.8, 41.0, 41.3, 41.6, 42.0],\n",
    "    \"presion\": [101.3, 101.5, 101.7, 102.1, 102.3, 102.8],\n",
    "    \"vibracion\": [0.02, 0.03, 0.03, 0.05, 0.04, 0.07]\n",
    "}\n",
    "\n",
    "# Convertir datos a un DataFrame\n",
    "df = pd.DataFrame(data)\n",
    "\n",
    "# Guardar como CSV\n",
    "df.to_csv(\"sensores_maquina.csv\", index=False)\n",
    "\n",
    "print(\"Archivo sensores_maquina.csv creado con éxito.\")\n"
   ]
  },
  {
   "cell_type": "markdown",
   "id": "4c72f834-77f6-4946-9bbe-85458b46f0d5",
   "metadata": {},
   "source": [
    "### Creación de Datos Simulados\n",
    "Para este proyecto, simulamos datos de sensores de una máquina industrial. Los datos contienen:\n",
    "- **timestamp**: Marca de tiempo de cada registro.\n",
    "- **temperatura**: Lecturas en grados Celsius.\n",
    "- **presion**: Lecturas en bar.\n",
    "- **vibracion**: Lecturas de vibración en mm/s.\n",
    "\n",
    "Los datos se guardaron en un archivo CSV llamado `sensores_maquina.csv`."
   ]
  },
  {
   "cell_type": "code",
   "execution_count": 4,
   "id": "d49fa344-e57d-465d-b186-2400d14f1bcb",
   "metadata": {},
   "outputs": [
    {
     "name": "stdout",
     "output_type": "stream",
     "text": [
      "Primeras 5 filas del dataset:\n"
     ]
    },
    {
     "data": {
      "text/html": [
       "<div>\n",
       "<style scoped>\n",
       "    .dataframe tbody tr th:only-of-type {\n",
       "        vertical-align: middle;\n",
       "    }\n",
       "\n",
       "    .dataframe tbody tr th {\n",
       "        vertical-align: top;\n",
       "    }\n",
       "\n",
       "    .dataframe thead th {\n",
       "        text-align: right;\n",
       "    }\n",
       "</style>\n",
       "<table border=\"1\" class=\"dataframe\">\n",
       "  <thead>\n",
       "    <tr style=\"text-align: right;\">\n",
       "      <th></th>\n",
       "      <th>timestamp</th>\n",
       "      <th>temperatura</th>\n",
       "      <th>presion</th>\n",
       "      <th>vibracion</th>\n",
       "    </tr>\n",
       "  </thead>\n",
       "  <tbody>\n",
       "    <tr>\n",
       "      <th>0</th>\n",
       "      <td>2025-01-01 08:00:00</td>\n",
       "      <td>40.5</td>\n",
       "      <td>101.3</td>\n",
       "      <td>0.02</td>\n",
       "    </tr>\n",
       "    <tr>\n",
       "      <th>1</th>\n",
       "      <td>2025-01-01 08:01:00</td>\n",
       "      <td>40.8</td>\n",
       "      <td>101.5</td>\n",
       "      <td>0.03</td>\n",
       "    </tr>\n",
       "    <tr>\n",
       "      <th>2</th>\n",
       "      <td>2025-01-01 08:02:00</td>\n",
       "      <td>41.0</td>\n",
       "      <td>101.7</td>\n",
       "      <td>0.03</td>\n",
       "    </tr>\n",
       "    <tr>\n",
       "      <th>3</th>\n",
       "      <td>2025-01-01 08:03:00</td>\n",
       "      <td>41.3</td>\n",
       "      <td>102.1</td>\n",
       "      <td>0.05</td>\n",
       "    </tr>\n",
       "    <tr>\n",
       "      <th>4</th>\n",
       "      <td>2025-01-01 08:04:00</td>\n",
       "      <td>41.6</td>\n",
       "      <td>102.3</td>\n",
       "      <td>0.04</td>\n",
       "    </tr>\n",
       "  </tbody>\n",
       "</table>\n",
       "</div>"
      ],
      "text/plain": [
       "             timestamp  temperatura  presion  vibracion\n",
       "0  2025-01-01 08:00:00         40.5    101.3       0.02\n",
       "1  2025-01-01 08:01:00         40.8    101.5       0.03\n",
       "2  2025-01-01 08:02:00         41.0    101.7       0.03\n",
       "3  2025-01-01 08:03:00         41.3    102.1       0.05\n",
       "4  2025-01-01 08:04:00         41.6    102.3       0.04"
      ]
     },
     "metadata": {},
     "output_type": "display_data"
    }
   ],
   "source": [
    "ruta_csv = \"sensores_maquina.csv\"\n",
    "df = pd.read_csv(ruta_csv)\n",
    "\n",
    "# Mostrar las primeras filas\n",
    "print(\"Primeras 5 filas del dataset:\")\n",
    "display(df.head())"
   ]
  },
  {
   "cell_type": "code",
   "execution_count": 5,
   "id": "65a2be0a-bcc6-4af3-b85f-33a1a1d00c7c",
   "metadata": {},
   "outputs": [
    {
     "name": "stdout",
     "output_type": "stream",
     "text": [
      "Estadísticas descriptivas del dataset:\n"
     ]
    },
    {
     "data": {
      "text/html": [
       "<div>\n",
       "<style scoped>\n",
       "    .dataframe tbody tr th:only-of-type {\n",
       "        vertical-align: middle;\n",
       "    }\n",
       "\n",
       "    .dataframe tbody tr th {\n",
       "        vertical-align: top;\n",
       "    }\n",
       "\n",
       "    .dataframe thead th {\n",
       "        text-align: right;\n",
       "    }\n",
       "</style>\n",
       "<table border=\"1\" class=\"dataframe\">\n",
       "  <thead>\n",
       "    <tr style=\"text-align: right;\">\n",
       "      <th></th>\n",
       "      <th>temperatura</th>\n",
       "      <th>presion</th>\n",
       "      <th>vibracion</th>\n",
       "    </tr>\n",
       "  </thead>\n",
       "  <tbody>\n",
       "    <tr>\n",
       "      <th>count</th>\n",
       "      <td>6.000000</td>\n",
       "      <td>6.000000</td>\n",
       "      <td>6.000000</td>\n",
       "    </tr>\n",
       "    <tr>\n",
       "      <th>mean</th>\n",
       "      <td>41.200000</td>\n",
       "      <td>101.950000</td>\n",
       "      <td>0.040000</td>\n",
       "    </tr>\n",
       "    <tr>\n",
       "      <th>std</th>\n",
       "      <td>0.547723</td>\n",
       "      <td>0.557674</td>\n",
       "      <td>0.017889</td>\n",
       "    </tr>\n",
       "    <tr>\n",
       "      <th>min</th>\n",
       "      <td>40.500000</td>\n",
       "      <td>101.300000</td>\n",
       "      <td>0.020000</td>\n",
       "    </tr>\n",
       "    <tr>\n",
       "      <th>25%</th>\n",
       "      <td>40.850000</td>\n",
       "      <td>101.550000</td>\n",
       "      <td>0.030000</td>\n",
       "    </tr>\n",
       "    <tr>\n",
       "      <th>50%</th>\n",
       "      <td>41.150000</td>\n",
       "      <td>101.900000</td>\n",
       "      <td>0.035000</td>\n",
       "    </tr>\n",
       "    <tr>\n",
       "      <th>75%</th>\n",
       "      <td>41.525000</td>\n",
       "      <td>102.250000</td>\n",
       "      <td>0.047500</td>\n",
       "    </tr>\n",
       "    <tr>\n",
       "      <th>max</th>\n",
       "      <td>42.000000</td>\n",
       "      <td>102.800000</td>\n",
       "      <td>0.070000</td>\n",
       "    </tr>\n",
       "  </tbody>\n",
       "</table>\n",
       "</div>"
      ],
      "text/plain": [
       "       temperatura     presion  vibracion\n",
       "count     6.000000    6.000000   6.000000\n",
       "mean     41.200000  101.950000   0.040000\n",
       "std       0.547723    0.557674   0.017889\n",
       "min      40.500000  101.300000   0.020000\n",
       "25%      40.850000  101.550000   0.030000\n",
       "50%      41.150000  101.900000   0.035000\n",
       "75%      41.525000  102.250000   0.047500\n",
       "max      42.000000  102.800000   0.070000"
      ]
     },
     "metadata": {},
     "output_type": "display_data"
    }
   ],
   "source": [
    "# Estadísticas descriptivas de las columnas numéricas\n",
    "print(\"Estadísticas descriptivas del dataset:\")\n",
    "display(df.describe())"
   ]
  },
  {
   "cell_type": "code",
   "execution_count": null,
   "id": "a800ee50-692d-46d9-873e-35b18f53ee9d",
   "metadata": {},
   "outputs": [],
   "source": []
  }
 ],
 "metadata": {
  "kernelspec": {
   "display_name": "Python 3 (ipykernel)",
   "language": "python",
   "name": "python3"
  },
  "language_info": {
   "codemirror_mode": {
    "name": "ipython",
    "version": 3
   },
   "file_extension": ".py",
   "mimetype": "text/x-python",
   "name": "python",
   "nbconvert_exporter": "python",
   "pygments_lexer": "ipython3",
   "version": "3.12.7"
  }
 },
 "nbformat": 4,
 "nbformat_minor": 5
}
